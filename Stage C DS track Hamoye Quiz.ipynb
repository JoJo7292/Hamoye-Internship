{
 "cells": [
  {
   "cell_type": "code",
   "execution_count": 1,
   "metadata": {},
   "outputs": [],
   "source": [
    "import pandas as pd\n",
    "import numpy as np\n",
    "import warnings\n",
    "warnings.filterwarnings('ignore') #This guy removes warnings"
   ]
  },
  {
   "cell_type": "code",
   "execution_count": 2,
   "metadata": {},
   "outputs": [],
   "source": [
    "dtf = pd.read_csv('Data_for_UCI_named.csv')"
   ]
  },
  {
   "cell_type": "code",
   "execution_count": 4,
   "metadata": {},
   "outputs": [
    {
     "data": {
      "text/plain": [
       "unstable    6380\n",
       "stable      3620\n",
       "Name: stabf, dtype: int64"
      ]
     },
     "execution_count": 4,
     "metadata": {},
     "output_type": "execute_result"
    }
   ],
   "source": [
    "dtf['stabf'].value_counts()"
   ]
  },
  {
   "cell_type": "code",
   "execution_count": 3,
   "metadata": {},
   "outputs": [
    {
     "name": "stdout",
     "output_type": "stream",
     "text": [
      "<class 'pandas.core.frame.DataFrame'>\n",
      "RangeIndex: 10000 entries, 0 to 9999\n",
      "Data columns (total 14 columns):\n",
      "tau1     10000 non-null float64\n",
      "tau2     10000 non-null float64\n",
      "tau3     10000 non-null float64\n",
      "tau4     10000 non-null float64\n",
      "p1       10000 non-null float64\n",
      "p2       10000 non-null float64\n",
      "p3       10000 non-null float64\n",
      "p4       10000 non-null float64\n",
      "g1       10000 non-null float64\n",
      "g2       10000 non-null float64\n",
      "g3       10000 non-null float64\n",
      "g4       10000 non-null float64\n",
      "stab     10000 non-null float64\n",
      "stabf    10000 non-null object\n",
      "dtypes: float64(13), object(1)\n",
      "memory usage: 1.1+ MB\n"
     ]
    }
   ],
   "source": [
    "dtf.isna().sum()\n",
    "\n",
    "dtf.info()"
   ]
  },
  {
   "cell_type": "code",
   "execution_count": 5,
   "metadata": {},
   "outputs": [],
   "source": [
    "dtf = dtf.drop(['stab'], axis=1)\n"
   ]
  },
  {
   "cell_type": "code",
   "execution_count": 6,
   "metadata": {},
   "outputs": [],
   "source": [
    "X = dtf.drop(columns=['stabf'])\n",
    "Y = dtf['stabf']"
   ]
  },
  {
   "cell_type": "code",
   "execution_count": 7,
   "metadata": {},
   "outputs": [],
   "source": [
    "#split the data into training and testing sets\n",
    "from sklearn.model_selection import train_test_split\n",
    "x_train, x_test, y_train, y_test = train_test_split(X, Y, test_size=0.2, random_state = 1)"
   ]
  },
  {
   "cell_type": "code",
   "execution_count": 8,
   "metadata": {},
   "outputs": [
    {
     "data": {
      "text/plain": [
       "unstable    5092\n",
       "stable      2908\n",
       "Name: stabf, dtype: int64"
      ]
     },
     "execution_count": 8,
     "metadata": {},
     "output_type": "execute_result"
    }
   ],
   "source": [
    "y_train.value_counts()"
   ]
  },
  {
   "cell_type": "code",
   "execution_count": 9,
   "metadata": {},
   "outputs": [],
   "source": [
    "# Now to balancing the classes. This is done to the train data only.\n",
    "import imblearn\n",
    "from imblearn.over_sampling import SMOTE"
   ]
  },
  {
   "cell_type": "code",
   "execution_count": 10,
   "metadata": {},
   "outputs": [],
   "source": [
    "smote = SMOTE(random_state=1)\n",
    "x_balanced, y_balanced = smote.fit_sample(x_train, y_train)"
   ]
  },
  {
   "cell_type": "code",
   "execution_count": 12,
   "metadata": {},
   "outputs": [
    {
     "data": {
      "text/plain": [
       "((8000, 12), (10184, 12))"
      ]
     },
     "execution_count": 12,
     "metadata": {},
     "output_type": "execute_result"
    }
   ],
   "source": [
    "#now we have a balanced dataset,to check,\n",
    "x_train.shape, x_balanced.shape"
   ]
  },
  {
   "cell_type": "code",
   "execution_count": 13,
   "metadata": {},
   "outputs": [
    {
     "data": {
      "text/plain": [
       "((8000,), (10184,))"
      ]
     },
     "execution_count": 13,
     "metadata": {},
     "output_type": "execute_result"
    }
   ],
   "source": [
    "y_train.shape, y_balanced.shape"
   ]
  },
  {
   "cell_type": "code",
   "execution_count": 14,
   "metadata": {},
   "outputs": [
    {
     "data": {
      "text/plain": [
       "unstable    5092\n",
       "stable      5092\n",
       "dtype: int64"
      ]
     },
     "execution_count": 14,
     "metadata": {},
     "output_type": "execute_result"
    }
   ],
   "source": [
    "pd.Series(y_balanced.tolist()).value_counts()"
   ]
  },
  {
   "cell_type": "code",
   "execution_count": 15,
   "metadata": {},
   "outputs": [],
   "source": [
    "from sklearn.preprocessing import MinMaxScaler\n"
   ]
  },
  {
   "cell_type": "code",
   "execution_count": 16,
   "metadata": {},
   "outputs": [],
   "source": [
    "scaler = MinMaxScaler() \n",
    "normalized_train = scaler.fit_transform(x_balanced) #using scalar on the train data\n",
    "normalized_test = scaler.transform(x_test)"
   ]
  },
  {
   "cell_type": "code",
   "execution_count": 18,
   "metadata": {},
   "outputs": [],
   "source": [
    "#we want them as dataframes with the line below\n",
    "normalized_train = pd.DataFrame(normalized_train)"
   ]
  },
  {
   "cell_type": "code",
   "execution_count": 19,
   "metadata": {},
   "outputs": [],
   "source": [
    "normalized_test = pd.DataFrame(normalized_test)"
   ]
  },
  {
   "cell_type": "code",
   "execution_count": 20,
   "metadata": {},
   "outputs": [
    {
     "data": {
      "text/html": [
       "<div>\n",
       "<style scoped>\n",
       "    .dataframe tbody tr th:only-of-type {\n",
       "        vertical-align: middle;\n",
       "    }\n",
       "\n",
       "    .dataframe tbody tr th {\n",
       "        vertical-align: top;\n",
       "    }\n",
       "\n",
       "    .dataframe thead th {\n",
       "        text-align: right;\n",
       "    }\n",
       "</style>\n",
       "<table border=\"1\" class=\"dataframe\">\n",
       "  <thead>\n",
       "    <tr style=\"text-align: right;\">\n",
       "      <th></th>\n",
       "      <th>0</th>\n",
       "      <th>1</th>\n",
       "      <th>2</th>\n",
       "      <th>3</th>\n",
       "      <th>4</th>\n",
       "      <th>5</th>\n",
       "      <th>6</th>\n",
       "      <th>7</th>\n",
       "      <th>8</th>\n",
       "      <th>9</th>\n",
       "      <th>10</th>\n",
       "      <th>11</th>\n",
       "    </tr>\n",
       "  </thead>\n",
       "  <tbody>\n",
       "    <tr>\n",
       "      <th>0</th>\n",
       "      <td>0.605895</td>\n",
       "      <td>0.214898</td>\n",
       "      <td>0.686826</td>\n",
       "      <td>0.945002</td>\n",
       "      <td>0.454782</td>\n",
       "      <td>0.516700</td>\n",
       "      <td>0.874552</td>\n",
       "      <td>0.255448</td>\n",
       "      <td>0.545528</td>\n",
       "      <td>0.598331</td>\n",
       "      <td>0.669360</td>\n",
       "      <td>0.642234</td>\n",
       "    </tr>\n",
       "    <tr>\n",
       "      <th>1</th>\n",
       "      <td>0.481097</td>\n",
       "      <td>0.525305</td>\n",
       "      <td>0.797470</td>\n",
       "      <td>0.027436</td>\n",
       "      <td>0.616162</td>\n",
       "      <td>0.479547</td>\n",
       "      <td>0.065178</td>\n",
       "      <td>0.641255</td>\n",
       "      <td>0.414248</td>\n",
       "      <td>0.049680</td>\n",
       "      <td>0.912824</td>\n",
       "      <td>0.083403</td>\n",
       "    </tr>\n",
       "    <tr>\n",
       "      <th>2</th>\n",
       "      <td>0.075724</td>\n",
       "      <td>0.874245</td>\n",
       "      <td>0.355155</td>\n",
       "      <td>0.835240</td>\n",
       "      <td>0.474432</td>\n",
       "      <td>0.640493</td>\n",
       "      <td>0.697645</td>\n",
       "      <td>0.252484</td>\n",
       "      <td>0.903588</td>\n",
       "      <td>0.919622</td>\n",
       "      <td>0.198830</td>\n",
       "      <td>0.642306</td>\n",
       "    </tr>\n",
       "    <tr>\n",
       "      <th>3</th>\n",
       "      <td>0.736693</td>\n",
       "      <td>0.652439</td>\n",
       "      <td>0.873580</td>\n",
       "      <td>0.171161</td>\n",
       "      <td>0.362461</td>\n",
       "      <td>0.278625</td>\n",
       "      <td>0.940452</td>\n",
       "      <td>0.691134</td>\n",
       "      <td>0.221930</td>\n",
       "      <td>0.893734</td>\n",
       "      <td>0.963154</td>\n",
       "      <td>0.579607</td>\n",
       "    </tr>\n",
       "    <tr>\n",
       "      <th>4</th>\n",
       "      <td>0.692014</td>\n",
       "      <td>0.088023</td>\n",
       "      <td>0.589553</td>\n",
       "      <td>0.764197</td>\n",
       "      <td>0.220544</td>\n",
       "      <td>0.718310</td>\n",
       "      <td>0.911640</td>\n",
       "      <td>0.685474</td>\n",
       "      <td>0.983833</td>\n",
       "      <td>0.701163</td>\n",
       "      <td>0.828559</td>\n",
       "      <td>0.121206</td>\n",
       "    </tr>\n",
       "    <tr>\n",
       "      <th>5</th>\n",
       "      <td>0.841058</td>\n",
       "      <td>0.000744</td>\n",
       "      <td>0.823204</td>\n",
       "      <td>0.051215</td>\n",
       "      <td>0.399379</td>\n",
       "      <td>0.979828</td>\n",
       "      <td>0.268636</td>\n",
       "      <td>0.556469</td>\n",
       "      <td>0.788209</td>\n",
       "      <td>0.735471</td>\n",
       "      <td>0.029041</td>\n",
       "      <td>0.975019</td>\n",
       "    </tr>\n",
       "    <tr>\n",
       "      <th>6</th>\n",
       "      <td>0.949093</td>\n",
       "      <td>0.786564</td>\n",
       "      <td>0.461315</td>\n",
       "      <td>0.789597</td>\n",
       "      <td>0.394688</td>\n",
       "      <td>0.745914</td>\n",
       "      <td>0.405648</td>\n",
       "      <td>0.666724</td>\n",
       "      <td>0.139264</td>\n",
       "      <td>0.187933</td>\n",
       "      <td>0.010989</td>\n",
       "      <td>0.562801</td>\n",
       "    </tr>\n",
       "    <tr>\n",
       "      <th>7</th>\n",
       "      <td>0.839301</td>\n",
       "      <td>0.016476</td>\n",
       "      <td>0.159799</td>\n",
       "      <td>0.212734</td>\n",
       "      <td>0.500281</td>\n",
       "      <td>0.488895</td>\n",
       "      <td>0.632927</td>\n",
       "      <td>0.394979</td>\n",
       "      <td>0.401137</td>\n",
       "      <td>0.153403</td>\n",
       "      <td>0.630950</td>\n",
       "      <td>0.810078</td>\n",
       "    </tr>\n",
       "    <tr>\n",
       "      <th>8</th>\n",
       "      <td>0.455192</td>\n",
       "      <td>0.244438</td>\n",
       "      <td>0.391380</td>\n",
       "      <td>0.947911</td>\n",
       "      <td>0.817495</td>\n",
       "      <td>0.078118</td>\n",
       "      <td>0.302400</td>\n",
       "      <td>0.230640</td>\n",
       "      <td>0.665037</td>\n",
       "      <td>0.157504</td>\n",
       "      <td>0.523852</td>\n",
       "      <td>0.710637</td>\n",
       "    </tr>\n",
       "    <tr>\n",
       "      <th>9</th>\n",
       "      <td>0.804835</td>\n",
       "      <td>0.668408</td>\n",
       "      <td>0.247985</td>\n",
       "      <td>0.751894</td>\n",
       "      <td>0.613105</td>\n",
       "      <td>0.688000</td>\n",
       "      <td>0.115533</td>\n",
       "      <td>0.391213</td>\n",
       "      <td>0.950579</td>\n",
       "      <td>0.044396</td>\n",
       "      <td>0.113866</td>\n",
       "      <td>0.273623</td>\n",
       "    </tr>\n",
       "  </tbody>\n",
       "</table>\n",
       "</div>"
      ],
      "text/plain": [
       "         0         1         2         3         4         5         6   \\\n",
       "0  0.605895  0.214898  0.686826  0.945002  0.454782  0.516700  0.874552   \n",
       "1  0.481097  0.525305  0.797470  0.027436  0.616162  0.479547  0.065178   \n",
       "2  0.075724  0.874245  0.355155  0.835240  0.474432  0.640493  0.697645   \n",
       "3  0.736693  0.652439  0.873580  0.171161  0.362461  0.278625  0.940452   \n",
       "4  0.692014  0.088023  0.589553  0.764197  0.220544  0.718310  0.911640   \n",
       "5  0.841058  0.000744  0.823204  0.051215  0.399379  0.979828  0.268636   \n",
       "6  0.949093  0.786564  0.461315  0.789597  0.394688  0.745914  0.405648   \n",
       "7  0.839301  0.016476  0.159799  0.212734  0.500281  0.488895  0.632927   \n",
       "8  0.455192  0.244438  0.391380  0.947911  0.817495  0.078118  0.302400   \n",
       "9  0.804835  0.668408  0.247985  0.751894  0.613105  0.688000  0.115533   \n",
       "\n",
       "         7         8         9         10        11  \n",
       "0  0.255448  0.545528  0.598331  0.669360  0.642234  \n",
       "1  0.641255  0.414248  0.049680  0.912824  0.083403  \n",
       "2  0.252484  0.903588  0.919622  0.198830  0.642306  \n",
       "3  0.691134  0.221930  0.893734  0.963154  0.579607  \n",
       "4  0.685474  0.983833  0.701163  0.828559  0.121206  \n",
       "5  0.556469  0.788209  0.735471  0.029041  0.975019  \n",
       "6  0.666724  0.139264  0.187933  0.010989  0.562801  \n",
       "7  0.394979  0.401137  0.153403  0.630950  0.810078  \n",
       "8  0.230640  0.665037  0.157504  0.523852  0.710637  \n",
       "9  0.391213  0.950579  0.044396  0.113866  0.273623  "
      ]
     },
     "execution_count": 20,
     "metadata": {},
     "output_type": "execute_result"
    }
   ],
   "source": [
    "normalized_train.head(10)\n"
   ]
  },
  {
   "cell_type": "code",
   "execution_count": 22,
   "metadata": {},
   "outputs": [
    {
     "data": {
      "text/html": [
       "<div>\n",
       "<style scoped>\n",
       "    .dataframe tbody tr th:only-of-type {\n",
       "        vertical-align: middle;\n",
       "    }\n",
       "\n",
       "    .dataframe tbody tr th {\n",
       "        vertical-align: top;\n",
       "    }\n",
       "\n",
       "    .dataframe thead th {\n",
       "        text-align: right;\n",
       "    }\n",
       "</style>\n",
       "<table border=\"1\" class=\"dataframe\">\n",
       "  <thead>\n",
       "    <tr style=\"text-align: right;\">\n",
       "      <th></th>\n",
       "      <th>0</th>\n",
       "      <th>1</th>\n",
       "      <th>2</th>\n",
       "      <th>3</th>\n",
       "      <th>4</th>\n",
       "      <th>5</th>\n",
       "      <th>6</th>\n",
       "      <th>7</th>\n",
       "      <th>8</th>\n",
       "      <th>9</th>\n",
       "      <th>10</th>\n",
       "      <th>11</th>\n",
       "    </tr>\n",
       "  </thead>\n",
       "  <tbody>\n",
       "    <tr>\n",
       "      <th>0</th>\n",
       "      <td>0.671365</td>\n",
       "      <td>0.380367</td>\n",
       "      <td>0.932340</td>\n",
       "      <td>0.821112</td>\n",
       "      <td>0.577835</td>\n",
       "      <td>0.068198</td>\n",
       "      <td>0.272932</td>\n",
       "      <td>0.954195</td>\n",
       "      <td>0.238500</td>\n",
       "      <td>0.837447</td>\n",
       "      <td>0.065691</td>\n",
       "      <td>0.813278</td>\n",
       "    </tr>\n",
       "    <tr>\n",
       "      <th>1</th>\n",
       "      <td>0.558188</td>\n",
       "      <td>0.607557</td>\n",
       "      <td>0.445405</td>\n",
       "      <td>0.349467</td>\n",
       "      <td>0.466385</td>\n",
       "      <td>0.193555</td>\n",
       "      <td>0.621676</td>\n",
       "      <td>0.798284</td>\n",
       "      <td>0.028968</td>\n",
       "      <td>0.385755</td>\n",
       "      <td>0.908498</td>\n",
       "      <td>0.854065</td>\n",
       "    </tr>\n",
       "    <tr>\n",
       "      <th>2</th>\n",
       "      <td>0.188048</td>\n",
       "      <td>0.408938</td>\n",
       "      <td>0.245239</td>\n",
       "      <td>0.504652</td>\n",
       "      <td>0.339393</td>\n",
       "      <td>0.531448</td>\n",
       "      <td>0.732018</td>\n",
       "      <td>0.712638</td>\n",
       "      <td>0.920287</td>\n",
       "      <td>0.084360</td>\n",
       "      <td>0.688470</td>\n",
       "      <td>0.014509</td>\n",
       "    </tr>\n",
       "    <tr>\n",
       "      <th>3</th>\n",
       "      <td>0.475764</td>\n",
       "      <td>0.179892</td>\n",
       "      <td>0.606958</td>\n",
       "      <td>0.008257</td>\n",
       "      <td>0.639912</td>\n",
       "      <td>0.026362</td>\n",
       "      <td>0.616975</td>\n",
       "      <td>0.474772</td>\n",
       "      <td>0.523093</td>\n",
       "      <td>0.016780</td>\n",
       "      <td>0.397283</td>\n",
       "      <td>0.804946</td>\n",
       "    </tr>\n",
       "    <tr>\n",
       "      <th>4</th>\n",
       "      <td>0.752247</td>\n",
       "      <td>0.914666</td>\n",
       "      <td>0.524646</td>\n",
       "      <td>0.993199</td>\n",
       "      <td>0.479150</td>\n",
       "      <td>0.496922</td>\n",
       "      <td>0.443090</td>\n",
       "      <td>0.637113</td>\n",
       "      <td>0.538482</td>\n",
       "      <td>0.075332</td>\n",
       "      <td>0.776320</td>\n",
       "      <td>0.263485</td>\n",
       "    </tr>\n",
       "    <tr>\n",
       "      <th>5</th>\n",
       "      <td>0.367380</td>\n",
       "      <td>0.182863</td>\n",
       "      <td>0.880609</td>\n",
       "      <td>0.204729</td>\n",
       "      <td>0.630031</td>\n",
       "      <td>0.062436</td>\n",
       "      <td>0.240694</td>\n",
       "      <td>0.843188</td>\n",
       "      <td>0.858622</td>\n",
       "      <td>0.054766</td>\n",
       "      <td>0.026677</td>\n",
       "      <td>0.379814</td>\n",
       "    </tr>\n",
       "    <tr>\n",
       "      <th>6</th>\n",
       "      <td>0.282216</td>\n",
       "      <td>0.987846</td>\n",
       "      <td>0.442622</td>\n",
       "      <td>0.749859</td>\n",
       "      <td>0.523287</td>\n",
       "      <td>0.471323</td>\n",
       "      <td>0.016242</td>\n",
       "      <td>0.963547</td>\n",
       "      <td>0.290968</td>\n",
       "      <td>0.932047</td>\n",
       "      <td>0.128253</td>\n",
       "      <td>0.665579</td>\n",
       "    </tr>\n",
       "    <tr>\n",
       "      <th>7</th>\n",
       "      <td>0.061770</td>\n",
       "      <td>0.747826</td>\n",
       "      <td>0.738254</td>\n",
       "      <td>0.561700</td>\n",
       "      <td>0.394483</td>\n",
       "      <td>0.448693</td>\n",
       "      <td>0.592068</td>\n",
       "      <td>0.778058</td>\n",
       "      <td>0.735890</td>\n",
       "      <td>0.585056</td>\n",
       "      <td>0.831313</td>\n",
       "      <td>0.123828</td>\n",
       "    </tr>\n",
       "    <tr>\n",
       "      <th>8</th>\n",
       "      <td>0.279011</td>\n",
       "      <td>0.435495</td>\n",
       "      <td>0.578258</td>\n",
       "      <td>0.839119</td>\n",
       "      <td>0.094441</td>\n",
       "      <td>0.825040</td>\n",
       "      <td>0.880613</td>\n",
       "      <td>0.969781</td>\n",
       "      <td>0.913312</td>\n",
       "      <td>0.473574</td>\n",
       "      <td>0.487675</td>\n",
       "      <td>0.128482</td>\n",
       "    </tr>\n",
       "    <tr>\n",
       "      <th>9</th>\n",
       "      <td>0.210660</td>\n",
       "      <td>0.272264</td>\n",
       "      <td>0.736220</td>\n",
       "      <td>0.176605</td>\n",
       "      <td>0.521946</td>\n",
       "      <td>0.694007</td>\n",
       "      <td>0.637163</td>\n",
       "      <td>0.123823</td>\n",
       "      <td>0.476920</td>\n",
       "      <td>0.060801</td>\n",
       "      <td>0.509959</td>\n",
       "      <td>0.324046</td>\n",
       "    </tr>\n",
       "  </tbody>\n",
       "</table>\n",
       "</div>"
      ],
      "text/plain": [
       "         0         1         2         3         4         5         6   \\\n",
       "0  0.671365  0.380367  0.932340  0.821112  0.577835  0.068198  0.272932   \n",
       "1  0.558188  0.607557  0.445405  0.349467  0.466385  0.193555  0.621676   \n",
       "2  0.188048  0.408938  0.245239  0.504652  0.339393  0.531448  0.732018   \n",
       "3  0.475764  0.179892  0.606958  0.008257  0.639912  0.026362  0.616975   \n",
       "4  0.752247  0.914666  0.524646  0.993199  0.479150  0.496922  0.443090   \n",
       "5  0.367380  0.182863  0.880609  0.204729  0.630031  0.062436  0.240694   \n",
       "6  0.282216  0.987846  0.442622  0.749859  0.523287  0.471323  0.016242   \n",
       "7  0.061770  0.747826  0.738254  0.561700  0.394483  0.448693  0.592068   \n",
       "8  0.279011  0.435495  0.578258  0.839119  0.094441  0.825040  0.880613   \n",
       "9  0.210660  0.272264  0.736220  0.176605  0.521946  0.694007  0.637163   \n",
       "\n",
       "         7         8         9         10        11  \n",
       "0  0.954195  0.238500  0.837447  0.065691  0.813278  \n",
       "1  0.798284  0.028968  0.385755  0.908498  0.854065  \n",
       "2  0.712638  0.920287  0.084360  0.688470  0.014509  \n",
       "3  0.474772  0.523093  0.016780  0.397283  0.804946  \n",
       "4  0.637113  0.538482  0.075332  0.776320  0.263485  \n",
       "5  0.843188  0.858622  0.054766  0.026677  0.379814  \n",
       "6  0.963547  0.290968  0.932047  0.128253  0.665579  \n",
       "7  0.778058  0.735890  0.585056  0.831313  0.123828  \n",
       "8  0.969781  0.913312  0.473574  0.487675  0.128482  \n",
       "9  0.123823  0.476920  0.060801  0.509959  0.324046  "
      ]
     },
     "execution_count": 22,
     "metadata": {},
     "output_type": "execute_result"
    }
   ],
   "source": [
    "normalized_test.head(10)\n"
   ]
  },
  {
   "cell_type": "markdown",
   "metadata": {},
   "source": [
    "# RandomForest Algorithm"
   ]
  },
  {
   "cell_type": "code",
   "execution_count": 23,
   "metadata": {},
   "outputs": [],
   "source": [
    "from sklearn.ensemble import RandomForestClassifier"
   ]
  },
  {
   "cell_type": "code",
   "execution_count": 24,
   "metadata": {},
   "outputs": [],
   "source": [
    "rfc = RandomForestClassifier(random_state=1)\n",
    "rfc.fit(normalized_train, y_balanced)\n",
    "Rand_Forest_pred = rfc.predict(normalized_test)"
   ]
  },
  {
   "cell_type": "markdown",
   "metadata": {},
   "source": [
    "# EXTRA TREE FOREST"
   ]
  },
  {
   "cell_type": "code",
   "execution_count": 25,
   "metadata": {},
   "outputs": [],
   "source": [
    "from sklearn.ensemble import ExtraTreesClassifier\n"
   ]
  },
  {
   "cell_type": "code",
   "execution_count": 26,
   "metadata": {},
   "outputs": [],
   "source": [
    "extra_tree = ExtraTreesClassifier(random_state=1)\n",
    "extra_tree.fit(normalized_train, y_balanced)\n",
    "extraTree_pred = extra_tree.predict(normalized_test)"
   ]
  },
  {
   "cell_type": "markdown",
   "metadata": {},
   "source": [
    "# XTRA GRADIENT BOOST "
   ]
  },
  {
   "cell_type": "code",
   "execution_count": 27,
   "metadata": {},
   "outputs": [],
   "source": [
    "from xgboost import XGBClassifier"
   ]
  },
  {
   "cell_type": "code",
   "execution_count": 28,
   "metadata": {},
   "outputs": [],
   "source": [
    "XGB = XGBClassifier(random_state=1)\n",
    "XGB.fit(normalized_train, y_balanced)\n",
    "XGB_pred = XGB.predict(normalized_test)"
   ]
  },
  {
   "cell_type": "markdown",
   "metadata": {},
   "source": [
    "# LIGHT GRADIENT BOOST CLASSIFIER"
   ]
  },
  {
   "cell_type": "code",
   "execution_count": 29,
   "metadata": {},
   "outputs": [],
   "source": [
    "from lightgbm import LGBMClassifier"
   ]
  },
  {
   "cell_type": "code",
   "execution_count": 30,
   "metadata": {},
   "outputs": [],
   "source": [
    "LGBM = LGBMClassifier(objective='binary', random_state=1)\n",
    "LGBM.fit(normalized_train, y_balanced)\n",
    "LGBM_pred = LGBM.predict(normalized_test)\n"
   ]
  },
  {
   "cell_type": "markdown",
   "metadata": {},
   "source": [
    "# IMPROVING THE EXTRA TREES CLASSIFIER"
   ]
  },
  {
   "cell_type": "code",
   "execution_count": 31,
   "metadata": {},
   "outputs": [],
   "source": [
    "from sklearn.model_selection import RandomizedSearchCV"
   ]
  },
  {
   "cell_type": "code",
   "execution_count": 39,
   "metadata": {},
   "outputs": [],
   "source": [
    "n_estimators = [50,100,300,500,1000]\n",
    "min_samples_split = [2,3,5,7,9]\n",
    "min_samples_leaf = [1,2,4,6,8]\n",
    "max_features = ['auto', 'sqrt','log2',None]\n",
    "hyperparam_grid = {'n_estimators': n_estimators, 'min_samples_split': min_samples_split,\n",
    "                   'min_samples_leaf': min_samples_leaf, 'max_features': max_features}\n",
    "\n",
    "xtra_random = RandomizedSearchCV(estimator=extra_tree, cv=5, n_iter=10, n_jobs=-1, verbose=1, scoring='accuracy',\n",
    "                                 param_distributions=hyperparam_grid, random_state=1)"
   ]
  },
  {
   "cell_type": "code",
   "execution_count": 40,
   "metadata": {},
   "outputs": [
    {
     "name": "stdout",
     "output_type": "stream",
     "text": [
      "Fitting 5 folds for each of 10 candidates, totalling 50 fits\n"
     ]
    },
    {
     "name": "stderr",
     "output_type": "stream",
     "text": [
      "[Parallel(n_jobs=-1)]: Using backend LokyBackend with 2 concurrent workers.\n",
      "[Parallel(n_jobs=-1)]: Done  46 tasks      | elapsed:  2.4min\n",
      "[Parallel(n_jobs=-1)]: Done  50 out of  50 | elapsed:  2.5min finished\n"
     ]
    }
   ],
   "source": [
    "#fit the random search model\n",
    "xtra_random.fit(normalized_train, y_balanced)\n",
    "new_xtra_pred = xtra_random.predict(normalized_test)\n"
   ]
  },
  {
   "cell_type": "code",
   "execution_count": 34,
   "metadata": {},
   "outputs": [],
   "source": [
    "from sklearn.metrics import recall_score, accuracy_score, precision_score, f1_score, confusion_matrix"
   ]
  },
  {
   "cell_type": "markdown",
   "metadata": {},
   "source": [
    "# ACCURACIES OF THE MODELS"
   ]
  },
  {
   "cell_type": "code",
   "execution_count": 41,
   "metadata": {},
   "outputs": [
    {
     "name": "stdout",
     "output_type": "stream",
     "text": [
      "Accuracy for Random Forest model: 92.0\n",
      "Accuracy for improved Extra Trees model: 92.0\n",
      "Accuracy for XGBoost model: 94.0\n",
      "Accuracy for Light Gradient Boost model: 93.0\n"
     ]
    }
   ],
   "source": [
    "accuracy = accuracy_score(y_test, Rand_Forest_pred)\n",
    "print( 'Accuracy for Random Forest model: {}' .format(round(accuracy* 100 ), 2 ))\n",
    "\n",
    "accuracy = accuracy_score(y_test, new_xtra_pred)\n",
    "print( 'Accuracy for improved Extra Trees model: {}' .format(round(accuracy* 100 ), 2 ))\n",
    "\n",
    "accuracy = accuracy_score(y_test, XGB_pred)\n",
    "print( 'Accuracy for XGBoost model: {}' .format(round(accuracy* 100 ), 2 ))\n",
    "\n",
    "accuracy = accuracy_score(y_test, LGBM_pred)\n",
    "print( 'Accuracy for Light Gradient Boost model: {}' .format(round(accuracy* 100 ), 2 ))"
   ]
  },
  {
   "cell_type": "markdown",
   "metadata": {},
   "source": [
    "# PRECISION"
   ]
  },
  {
   "cell_type": "code",
   "execution_count": 36,
   "metadata": {},
   "outputs": [
    {
     "name": "stdout",
     "output_type": "stream",
     "text": [
      "Precision for Random Forest model: 95.0\n",
      "Precision for improved Extra Trees model: 95.0\n",
      "Precision for XGBoost model: 90.0\n",
      "Precision for Light Gradient Boost model: 89.0\n"
     ]
    }
   ],
   "source": [
    "precision = precision_score(y_test, Rand_Forest_pred, pos_label='unstable')\n",
    "print( 'Precision for Random Forest model: {}' .format(round(precision* 100 ), 2 ))\n",
    "\n",
    "precision = precision_score(y_test, new_xtra_pred, pos_label='unstable')\n",
    "print( 'Precision for improved Extra Trees model: {}' .format(round(precision* 100 ), 2 ))\n",
    "\n",
    "precision = precision_score(y_test, XGB_pred, pos_label='stable')\n",
    "print( 'Precision for XGBoost model: {}' .format(round(precision* 100 ), 2 ))\n",
    "\n",
    "precision = precision_score(y_test, LGBM_pred, pos_label='stable')\n",
    "print( 'Precision for Light Gradient Boost model: {}' .format(round(precision* 100 ), 2 ))\n",
    "\n"
   ]
  },
  {
   "cell_type": "markdown",
   "metadata": {},
   "source": [
    "# RECALL SCORES"
   ]
  },
  {
   "cell_type": "code",
   "execution_count": 37,
   "metadata": {},
   "outputs": [
    {
     "name": "stdout",
     "output_type": "stream",
     "text": [
      "Recall for Random Forest model: 92.0\n",
      "Recall for improved Extra Trees model: 91.0\n",
      "Recall for XGBoost model: 94.0\n",
      "Recall for Light Gradient Boost model: 92.0\n"
     ]
    }
   ],
   "source": [
    "recall = recall_score(y_test, Rand_Forest_pred, pos_label='unstable')\n",
    "print( 'Recall for Random Forest model: {}' .format(round(recall* 100 ), 2 ))\n",
    "\n",
    "recall = recall_score(y_test, new_xtra_pred, pos_label='stable')\n",
    "print( 'Recall for improved Extra Trees model: {}' .format(round(recall* 100 ), 2 ))\n",
    "\n",
    "recall = recall_score(y_test, XGB_pred, pos_label='unstable')\n",
    "print( 'Recall for XGBoost model: {}' .format(round(recall* 100 ), 2 ))\n",
    "\n",
    "recall = recall_score(y_test, LGBM_pred, pos_label='stable')\n",
    "print( 'Recall for Light Gradient Boost model: {}' .format(round(recall* 100 ), 2 ))\n"
   ]
  },
  {
   "cell_type": "markdown",
   "metadata": {},
   "source": [
    "# F1 SCORES"
   ]
  },
  {
   "cell_type": "code",
   "execution_count": 38,
   "metadata": {},
   "outputs": [
    {
     "name": "stdout",
     "output_type": "stream",
     "text": [
      "F1 for Random Forest model: 94.0\n",
      "F1 for improved Extra Trees model: 94.0\n",
      "F1 for XGBoost model: 94.0\n",
      "F1 for Light Gradient Boost model: 94.0\n"
     ]
    }
   ],
   "source": [
    "f1 = f1_score(y_test, Rand_Forest_pred, pos_label='unstable')\n",
    "print( 'F1 for Random Forest model: {}' .format(round(f1* 100 ), 2 ))\n",
    "\n",
    "f1 = f1_score(y_test, Rand_Forest_pred, pos_label='unstable')\n",
    "print( 'F1 for improved Extra Trees model: {}' .format(round(f1* 100 ), 2 ))\n",
    "\n",
    "f1 = f1_score(y_test, Rand_Forest_pred, pos_label='unstable')\n",
    "print( 'F1 for XGBoost model: {}' .format(round(f1* 100 ), 2 ))\n",
    "\n",
    "f1 = f1_score(y_test, Rand_Forest_pred, pos_label='unstable')\n",
    "print( 'F1 for Light Gradient Boost model: {}' .format(round(f1* 100 ), 2 ))"
   ]
  },
  {
   "cell_type": "markdown",
   "metadata": {},
   "source": [
    "## FEATURE IMPORTANCE "
   ]
  },
  {
   "cell_type": "code",
   "execution_count": 43,
   "metadata": {},
   "outputs": [
    {
     "name": "stdout",
     "output_type": "stream",
     "text": [
      "Accuracy for improved Extra Trees model: 92.0\n"
     ]
    }
   ],
   "source": [
    "accuracy = accuracy_score(y_test, extraTree_pred)\n",
    "print( 'Accuracy for improved Extra Trees model: {}' .format(round(accuracy* 100 ), 2 ))"
   ]
  },
  {
   "cell_type": "code",
   "execution_count": 44,
   "metadata": {},
   "outputs": [],
   "source": [
    "feat_imp = extra_tree.feature_importances_"
   ]
  },
  {
   "cell_type": "code",
   "execution_count": null,
   "metadata": {},
   "outputs": [],
   "source": []
  },
  {
   "cell_type": "markdown",
   "metadata": {},
   "source": [
    "### visualizing the results"
   ]
  },
  {
   "cell_type": "code",
   "execution_count": 46,
   "metadata": {},
   "outputs": [],
   "source": [
    "import matplotlib.pyplot as plt"
   ]
  },
  {
   "cell_type": "code",
   "execution_count": 47,
   "metadata": {},
   "outputs": [
    {
     "data": {
      "image/png": "[encoded data removed]",
      "text/plain": [
       "<Figure size 432x288 with 1 Axes>"
      ]
     },
     "metadata": {
      "needs_background": "light"
     },
     "output_type": "display_data"
    }
   ],
   "source": [
    "plt.bar(normalized_train.columns, feat_imp)\n",
    "plt.xlabel('Feature Labels')\n",
    "plt.ylabel('Feat Importances')\n",
    "plt.title('Comparison results')\n",
    "plt.show()"
   ]
  }
 ],
 "metadata": {
  "kernelspec": {
   "display_name": "Python 3",
   "language": "python",
   "name": "python3"
  },
  "language_info": {
   "codemirror_mode": {
    "name": "ipython",
    "version": 3
   },
   "file_extension": ".py",
   "mimetype": "text/x-python",
   "name": "python",
   "nbconvert_exporter": "python",
   "pygments_lexer": "ipython3",
   "version": "3.7.3"
  }
 },
 "nbformat": 4,
 "nbformat_minor": 2
}
